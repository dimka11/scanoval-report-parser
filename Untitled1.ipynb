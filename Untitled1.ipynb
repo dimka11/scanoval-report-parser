{
 "cells": [
  {
   "cell_type": "code",
   "execution_count": 170,
   "metadata": {},
   "outputs": [],
   "source": [
    "import pandas as pd"
   ]
  },
  {
   "cell_type": "code",
   "execution_count": 171,
   "metadata": {},
   "outputs": [],
   "source": [
    "df = pd.read_csv('./Report_ 17 05 2022 14-42-26.csv', encoding=\"utf-8\", index_col=0)"
   ]
  },
  {
   "cell_type": "code",
   "execution_count": 172,
   "metadata": {},
   "outputs": [],
   "source": [
    "df_idxs = df[df['bdu'].str.len() > 14]['bdu'].index"
   ]
  },
  {
   "cell_type": "code",
   "execution_count": 173,
   "metadata": {},
   "outputs": [
    {
     "data": {
      "text/plain": [
       "Int64Index([ 63, 231, 280, 432, 454, 465, 494, 548, 581, 591, 592, 721, 763,\n",
       "             63, 231, 280, 432, 454, 465, 494, 548, 581, 591, 592, 721, 763],\n",
       "           dtype='int64')"
      ]
     },
     "execution_count": 173,
     "metadata": {},
     "output_type": "execute_result"
    }
   ],
   "source": [
    "df_idxs"
   ]
  },
  {
   "cell_type": "code",
   "execution_count": 174,
   "metadata": {},
   "outputs": [],
   "source": [
    "bdu_series1 = df[df['bdu'].str.len() > 14]['bdu'].str[:14]\n",
    "bdu_series2 = df[df['bdu'].str.len() > 14]['bdu'].str[14:]"
   ]
  },
  {
   "cell_type": "code",
   "execution_count": 175,
   "metadata": {},
   "outputs": [],
   "source": [
    "for idx in df_idxs:\n",
    "    df.loc[idx, 'bdu'] = bdu_series1[idx]"
   ]
  },
  {
   "cell_type": "code",
   "execution_count": 176,
   "metadata": {},
   "outputs": [],
   "source": [
    "df_n = df.iloc[df_idxs].copy()"
   ]
  },
  {
   "cell_type": "code",
   "execution_count": 177,
   "metadata": {},
   "outputs": [],
   "source": [
    "for idx in df_idxs:\n",
    "  df_n.loc[idx, 'bdu'] = bdu_series2[idx]"
   ]
  },
  {
   "cell_type": "code",
   "execution_count": 178,
   "metadata": {},
   "outputs": [
    {
     "name": "stdout",
     "output_type": "stream",
     "text": [
      "<class 'pandas.core.frame.DataFrame'>\n",
      "Int64Index: 1578 entries, 0 to 788\n",
      "Data columns (total 5 columns):\n",
      " #   Column          Non-Null Count  Dtype \n",
      "---  ------          --------------  ----- \n",
      " 0   bdu             1578 non-null   object\n",
      " 1   risk            1578 non-null   object\n",
      " 2   desc            1578 non-null   object\n",
      " 3   filelist_prods  1312 non-null   object\n",
      " 4   file_list_desc  1578 non-null   object\n",
      "dtypes: object(5)\n",
      "memory usage: 114.0+ KB\n"
     ]
    }
   ],
   "source": [
    "df.info()"
   ]
  },
  {
   "cell_type": "code",
   "execution_count": 179,
   "metadata": {},
   "outputs": [],
   "source": [
    "df = df.append(df_n)"
   ]
  },
  {
   "cell_type": "code",
   "execution_count": 180,
   "metadata": {},
   "outputs": [
    {
     "data": {
      "text/plain": [
       "Series([], Name: bdu, dtype: object)"
      ]
     },
     "execution_count": 180,
     "metadata": {},
     "output_type": "execute_result"
    }
   ],
   "source": [
    "df[df['bdu'].str.len() > 14]['bdu']"
   ]
  },
  {
   "cell_type": "code",
   "execution_count": 169,
   "metadata": {},
   "outputs": [
    {
     "data": {
      "text/html": [
       "<div>\n",
       "<style scoped>\n",
       "    .dataframe tbody tr th:only-of-type {\n",
       "        vertical-align: middle;\n",
       "    }\n",
       "\n",
       "    .dataframe tbody tr th {\n",
       "        vertical-align: top;\n",
       "    }\n",
       "\n",
       "    .dataframe thead th {\n",
       "        text-align: right;\n",
       "    }\n",
       "</style>\n",
       "<table border=\"1\" class=\"dataframe\">\n",
       "  <thead>\n",
       "    <tr style=\"text-align: right;\">\n",
       "      <th></th>\n",
       "      <th>bdu</th>\n",
       "      <th>risk</th>\n",
       "      <th>desc</th>\n",
       "      <th>filelist_prods</th>\n",
       "      <th>file_list_desc</th>\n",
       "    </tr>\n",
       "  </thead>\n",
       "  <tbody>\n",
       "    <tr>\n",
       "      <th>63</th>\n",
       "      <td>BDU:2021-03776</td>\n",
       "      <td>\\nКритический\\n</td>\n",
       "      <td>Adobe Acrobat и Reader версии 2019.010.20100 и...</td>\n",
       "      <td>cpe:/a:adobe:acrobat_reader_dc:::continuous</td>\n",
       "      <td>HKEY_LOCAL_MACHINE\\SOFTWARE\\Microsoft\\Windows\\...</td>\n",
       "    </tr>\n",
       "    <tr>\n",
       "      <th>63</th>\n",
       "      <td>BDU:2021-03776</td>\n",
       "      <td>\\nКритический\\n</td>\n",
       "      <td>Adobe Acrobat и Reader версии 2019.010.20100 и...</td>\n",
       "      <td>cpe:/a:adobe:acrobat_reader_dc:::continuous</td>\n",
       "      <td>HKEY_LOCAL_MACHINE\\SOFTWARE\\Microsoft\\Windows\\...</td>\n",
       "    </tr>\n",
       "    <tr>\n",
       "      <th>63</th>\n",
       "      <td>BDU:2021-03334</td>\n",
       "      <td>\\nКритический\\n</td>\n",
       "      <td>Adobe Acrobat и Reader версии 2019.010.20100 и...</td>\n",
       "      <td>cpe:/a:adobe:acrobat_reader_dc:::continuous</td>\n",
       "      <td>HKEY_LOCAL_MACHINE\\SOFTWARE\\Microsoft\\Windows\\...</td>\n",
       "    </tr>\n",
       "    <tr>\n",
       "      <th>63</th>\n",
       "      <td>BDU:2021-03334</td>\n",
       "      <td>\\nКритический\\n</td>\n",
       "      <td>Adobe Acrobat и Reader версии 2019.010.20100 и...</td>\n",
       "      <td>cpe:/a:adobe:acrobat_reader_dc:::continuous</td>\n",
       "      <td>HKEY_LOCAL_MACHINE\\SOFTWARE\\Microsoft\\Windows\\...</td>\n",
       "    </tr>\n",
       "  </tbody>\n",
       "</table>\n",
       "</div>"
      ],
      "text/plain": [
       "               bdu             risk  \\\n",
       "63  BDU:2021-03776  \\nКритический\\n   \n",
       "63  BDU:2021-03776  \\nКритический\\n   \n",
       "63  BDU:2021-03334  \\nКритический\\n   \n",
       "63  BDU:2021-03334  \\nКритический\\n   \n",
       "\n",
       "                                                 desc  \\\n",
       "63  Adobe Acrobat и Reader версии 2019.010.20100 и...   \n",
       "63  Adobe Acrobat и Reader версии 2019.010.20100 и...   \n",
       "63  Adobe Acrobat и Reader версии 2019.010.20100 и...   \n",
       "63  Adobe Acrobat и Reader версии 2019.010.20100 и...   \n",
       "\n",
       "                                 filelist_prods  \\\n",
       "63  cpe:/a:adobe:acrobat_reader_dc:::continuous   \n",
       "63  cpe:/a:adobe:acrobat_reader_dc:::continuous   \n",
       "63  cpe:/a:adobe:acrobat_reader_dc:::continuous   \n",
       "63  cpe:/a:adobe:acrobat_reader_dc:::continuous   \n",
       "\n",
       "                                       file_list_desc  \n",
       "63  HKEY_LOCAL_MACHINE\\SOFTWARE\\Microsoft\\Windows\\...  \n",
       "63  HKEY_LOCAL_MACHINE\\SOFTWARE\\Microsoft\\Windows\\...  \n",
       "63  HKEY_LOCAL_MACHINE\\SOFTWARE\\Microsoft\\Windows\\...  \n",
       "63  HKEY_LOCAL_MACHINE\\SOFTWARE\\Microsoft\\Windows\\...  "
      ]
     },
     "execution_count": 169,
     "metadata": {},
     "output_type": "execute_result"
    }
   ],
   "source": [
    "df.loc[63, :]"
   ]
  },
  {
   "cell_type": "code",
   "execution_count": null,
   "metadata": {},
   "outputs": [],
   "source": []
  },
  {
   "cell_type": "code",
   "execution_count": null,
   "metadata": {},
   "outputs": [],
   "source": []
  },
  {
   "cell_type": "code",
   "execution_count": null,
   "metadata": {},
   "outputs": [],
   "source": []
  }
 ],
 "metadata": {
  "kernelspec": {
   "display_name": "Python 3",
   "language": "python",
   "name": "python3"
  },
  "language_info": {
   "codemirror_mode": {
    "name": "ipython",
    "version": 3
   },
   "file_extension": ".py",
   "mimetype": "text/x-python",
   "name": "python",
   "nbconvert_exporter": "python",
   "pygments_lexer": "ipython3",
   "version": "3.6.8"
  }
 },
 "nbformat": 4,
 "nbformat_minor": 2
}
