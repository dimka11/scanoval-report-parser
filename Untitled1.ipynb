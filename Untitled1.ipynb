{
 "cells": [
  {
   "cell_type": "code",
   "execution_count": 13,
   "metadata": {},
   "outputs": [],
   "source": [
    "import pandas as pd"
   ]
  },
  {
   "cell_type": "code",
   "execution_count": 14,
   "metadata": {},
   "outputs": [],
   "source": [
    "df = pd.read_csv('./Report_ 18 05 2022 14-05-07.csv', encoding=\"utf-8\")"
   ]
  },
  {
   "cell_type": "code",
   "execution_count": 15,
   "metadata": {},
   "outputs": [],
   "source": [
    "df_idxs = df[df['bdu'].str.len() > 14]['bdu'].index"
   ]
  },
  {
   "cell_type": "code",
   "execution_count": 16,
   "metadata": {},
   "outputs": [
    {
     "data": {
      "text/plain": [
       "Int64Index([  63,  231,  280,  432,  454,  465,  494,  548,  581,  591,  592,\n",
       "             721,  763,  852, 1020, 1069, 1221, 1243, 1254, 1283, 1337, 1370,\n",
       "            1380, 1381, 1510, 1552, 1641, 1807, 1856, 2007, 2037, 2066, 2115,\n",
       "            2148, 2158, 2159, 2286, 2322],\n",
       "           dtype='int64')"
      ]
     },
     "execution_count": 16,
     "metadata": {},
     "output_type": "execute_result"
    }
   ],
   "source": [
    "df_idxs"
   ]
  },
  {
   "cell_type": "code",
   "execution_count": 17,
   "metadata": {},
   "outputs": [],
   "source": [
    "bdu_series1 = df[df['bdu'].str.len() > 14]['bdu'].str[:14]\n",
    "bdu_series2 = df[df['bdu'].str.len() > 14]['bdu'].str[14:]"
   ]
  },
  {
   "cell_type": "code",
   "execution_count": 18,
   "metadata": {},
   "outputs": [
    {
     "data": {
      "text/plain": [
       "Unnamed: 0                                                      231\n",
       "bdu                                    BDU:2021-05405BDU:2021-05225\n",
       "risk                                                \\nКритический\\n\n",
       "desc              Pillow по 8.2.0 и PIL (также известная как Pyt...\n",
       "filelist_prods                                      cpe:/a:pypi:pip\n",
       "file_list_desc    textfilecontent: C:\\Users\\Dima\\AppData\\Local\\P...\n",
       "Name: 231, dtype: object"
      ]
     },
     "execution_count": 18,
     "metadata": {},
     "output_type": "execute_result"
    }
   ],
   "source": [
    "df.iloc[idx]"
   ]
  },
  {
   "cell_type": "code",
   "execution_count": 21,
   "metadata": {},
   "outputs": [],
   "source": [
    "for idx in df_idxs:\n",
    "    df.loc[idx, 'bdu'] = bdu_series1[idx]"
   ]
  },
  {
   "cell_type": "code",
   "execution_count": 22,
   "metadata": {},
   "outputs": [],
   "source": [
    "df_n = df.iloc[df_idxs].copy()"
   ]
  },
  {
   "cell_type": "code",
   "execution_count": 23,
   "metadata": {},
   "outputs": [],
   "source": [
    "for idx in df_idxs:\n",
    "  df_n.loc[idx, 'bdu'] = bdu_series2[idx]"
   ]
  },
  {
   "cell_type": "code",
   "execution_count": 24,
   "metadata": {},
   "outputs": [
    {
     "name": "stdout",
     "output_type": "stream",
     "text": [
      "<class 'pandas.core.frame.DataFrame'>\n",
      "RangeIndex: 2348 entries, 0 to 2347\n",
      "Data columns (total 6 columns):\n",
      " #   Column          Non-Null Count  Dtype \n",
      "---  ------          --------------  ----- \n",
      " 0   Unnamed: 0      2348 non-null   int64 \n",
      " 1   bdu             2348 non-null   object\n",
      " 2   risk            2348 non-null   object\n",
      " 3   desc            2348 non-null   object\n",
      " 4   filelist_prods  1949 non-null   object\n",
      " 5   file_list_desc  2348 non-null   object\n",
      "dtypes: int64(1), object(5)\n",
      "memory usage: 110.2+ KB\n"
     ]
    }
   ],
   "source": [
    "df.info()"
   ]
  },
  {
   "cell_type": "code",
   "execution_count": 25,
   "metadata": {},
   "outputs": [],
   "source": [
    "df = df.append(df_n)"
   ]
  },
  {
   "cell_type": "code",
   "execution_count": 26,
   "metadata": {},
   "outputs": [
    {
     "data": {
      "text/plain": [
       "Series([], Name: bdu, dtype: object)"
      ]
     },
     "execution_count": 26,
     "metadata": {},
     "output_type": "execute_result"
    }
   ],
   "source": [
    "df[df['bdu'].str.len() > 14]['bdu']"
   ]
  },
  {
   "cell_type": "code",
   "execution_count": 27,
   "metadata": {},
   "outputs": [
    {
     "data": {
      "text/html": [
       "<div>\n",
       "<style scoped>\n",
       "    .dataframe tbody tr th:only-of-type {\n",
       "        vertical-align: middle;\n",
       "    }\n",
       "\n",
       "    .dataframe tbody tr th {\n",
       "        vertical-align: top;\n",
       "    }\n",
       "\n",
       "    .dataframe thead th {\n",
       "        text-align: right;\n",
       "    }\n",
       "</style>\n",
       "<table border=\"1\" class=\"dataframe\">\n",
       "  <thead>\n",
       "    <tr style=\"text-align: right;\">\n",
       "      <th></th>\n",
       "      <th>Unnamed: 0</th>\n",
       "      <th>bdu</th>\n",
       "      <th>risk</th>\n",
       "      <th>desc</th>\n",
       "      <th>filelist_prods</th>\n",
       "      <th>file_list_desc</th>\n",
       "    </tr>\n",
       "  </thead>\n",
       "  <tbody>\n",
       "    <tr>\n",
       "      <th>63</th>\n",
       "      <td>63</td>\n",
       "      <td>BDU:2021-03776</td>\n",
       "      <td>\\nКритический\\n</td>\n",
       "      <td>Adobe Acrobat и Reader версии 2019.010.20100 и...</td>\n",
       "      <td>cpe:/a:adobe:acrobat_reader_dc:::continuous</td>\n",
       "      <td>HKEY_LOCAL_MACHINE\\SOFTWARE\\Microsoft\\Windows\\...</td>\n",
       "    </tr>\n",
       "    <tr>\n",
       "      <th>63</th>\n",
       "      <td>63</td>\n",
       "      <td>BDU:2021-03334</td>\n",
       "      <td>\\nКритический\\n</td>\n",
       "      <td>Adobe Acrobat и Reader версии 2019.010.20100 и...</td>\n",
       "      <td>cpe:/a:adobe:acrobat_reader_dc:::continuous</td>\n",
       "      <td>HKEY_LOCAL_MACHINE\\SOFTWARE\\Microsoft\\Windows\\...</td>\n",
       "    </tr>\n",
       "  </tbody>\n",
       "</table>\n",
       "</div>"
      ],
      "text/plain": [
       "    Unnamed: 0             bdu             risk  \\\n",
       "63          63  BDU:2021-03776  \\nКритический\\n   \n",
       "63          63  BDU:2021-03334  \\nКритический\\n   \n",
       "\n",
       "                                                 desc  \\\n",
       "63  Adobe Acrobat и Reader версии 2019.010.20100 и...   \n",
       "63  Adobe Acrobat и Reader версии 2019.010.20100 и...   \n",
       "\n",
       "                                 filelist_prods  \\\n",
       "63  cpe:/a:adobe:acrobat_reader_dc:::continuous   \n",
       "63  cpe:/a:adobe:acrobat_reader_dc:::continuous   \n",
       "\n",
       "                                       file_list_desc  \n",
       "63  HKEY_LOCAL_MACHINE\\SOFTWARE\\Microsoft\\Windows\\...  \n",
       "63  HKEY_LOCAL_MACHINE\\SOFTWARE\\Microsoft\\Windows\\...  "
      ]
     },
     "execution_count": 27,
     "metadata": {},
     "output_type": "execute_result"
    }
   ],
   "source": [
    "df.loc[63, :]"
   ]
  },
  {
   "cell_type": "code",
   "execution_count": 38,
   "metadata": {},
   "outputs": [
    {
     "data": {
      "text/html": [
       "<div>\n",
       "<style scoped>\n",
       "    .dataframe tbody tr th:only-of-type {\n",
       "        vertical-align: middle;\n",
       "    }\n",
       "\n",
       "    .dataframe tbody tr th {\n",
       "        vertical-align: top;\n",
       "    }\n",
       "\n",
       "    .dataframe thead th {\n",
       "        text-align: right;\n",
       "    }\n",
       "</style>\n",
       "<table border=\"1\" class=\"dataframe\">\n",
       "  <thead>\n",
       "    <tr style=\"text-align: right;\">\n",
       "      <th></th>\n",
       "      <th>bdu</th>\n",
       "    </tr>\n",
       "  </thead>\n",
       "  <tbody>\n",
       "    <tr>\n",
       "      <th>0</th>\n",
       "      <td>BDU:2021-05592</td>\n",
       "    </tr>\n",
       "    <tr>\n",
       "      <th>1</th>\n",
       "      <td>BDU:2021-05585</td>\n",
       "    </tr>\n",
       "    <tr>\n",
       "      <th>2</th>\n",
       "      <td>BDU:2018-01222</td>\n",
       "    </tr>\n",
       "    <tr>\n",
       "      <th>3</th>\n",
       "      <td>BDU:2018-01244</td>\n",
       "    </tr>\n",
       "    <tr>\n",
       "      <th>4</th>\n",
       "      <td>BDU:2018-01245</td>\n",
       "    </tr>\n",
       "    <tr>\n",
       "      <th>...</th>\n",
       "      <td>...</td>\n",
       "    </tr>\n",
       "    <tr>\n",
       "      <th>2148</th>\n",
       "      <td>BDU:2021-03806</td>\n",
       "    </tr>\n",
       "    <tr>\n",
       "      <th>2158</th>\n",
       "      <td>BDU:2019-03569</td>\n",
       "    </tr>\n",
       "    <tr>\n",
       "      <th>2159</th>\n",
       "      <td>BDU:2019-03571</td>\n",
       "    </tr>\n",
       "    <tr>\n",
       "      <th>2286</th>\n",
       "      <td>BDU:2021-01096</td>\n",
       "    </tr>\n",
       "    <tr>\n",
       "      <th>2322</th>\n",
       "      <td>BDU:2019-03570</td>\n",
       "    </tr>\n",
       "  </tbody>\n",
       "</table>\n",
       "<p>2386 rows × 1 columns</p>\n",
       "</div>"
      ],
      "text/plain": [
       "                 bdu\n",
       "0     BDU:2021-05592\n",
       "1     BDU:2021-05585\n",
       "2     BDU:2018-01222\n",
       "3     BDU:2018-01244\n",
       "4     BDU:2018-01245\n",
       "...              ...\n",
       "2148  BDU:2021-03806\n",
       "2158  BDU:2019-03569\n",
       "2159  BDU:2019-03571\n",
       "2286  BDU:2021-01096\n",
       "2322  BDU:2019-03570\n",
       "\n",
       "[2386 rows x 1 columns]"
      ]
     },
     "execution_count": 38,
     "metadata": {},
     "output_type": "execute_result"
    }
   ],
   "source": [
    "# df = df.drop(df.columns[0],axis=1)\n",
    "df[['bdu']]"
   ]
  },
  {
   "cell_type": "code",
   "execution_count": null,
   "metadata": {},
   "outputs": [],
   "source": []
  }
 ],
 "metadata": {
  "kernelspec": {
   "display_name": "Python 3",
   "language": "python",
   "name": "python3"
  },
  "language_info": {
   "codemirror_mode": {
    "name": "ipython",
    "version": 3
   },
   "file_extension": ".py",
   "mimetype": "text/x-python",
   "name": "python",
   "nbconvert_exporter": "python",
   "pygments_lexer": "ipython3",
   "version": "3.6.8"
  }
 },
 "nbformat": 4,
 "nbformat_minor": 2
}
