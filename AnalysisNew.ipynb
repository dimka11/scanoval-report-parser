{
 "cells": [
  {
   "cell_type": "code",
   "execution_count": 1,
   "metadata": {},
   "outputs": [],
   "source": [
    "import pandas as pd\n",
    "import numpy as np\n",
    "import re"
   ]
  },
  {
   "cell_type": "code",
   "execution_count": 105,
   "metadata": {},
   "outputs": [
    {
     "data": {
      "text/html": [
       "<div>\n",
       "<style scoped>\n",
       "    .dataframe tbody tr th:only-of-type {\n",
       "        vertical-align: middle;\n",
       "    }\n",
       "\n",
       "    .dataframe tbody tr th {\n",
       "        vertical-align: top;\n",
       "    }\n",
       "\n",
       "    .dataframe thead th {\n",
       "        text-align: right;\n",
       "    }\n",
       "</style>\n",
       "<table border=\"1\" class=\"dataframe\">\n",
       "  <thead>\n",
       "    <tr style=\"text-align: right;\">\n",
       "      <th></th>\n",
       "      <th>bdu</th>\n",
       "      <th>risk</th>\n",
       "      <th>desc</th>\n",
       "      <th>filelist_prods</th>\n",
       "      <th>file_list_desc</th>\n",
       "      <th>date_time</th>\n",
       "      <th>file_idx</th>\n",
       "    </tr>\n",
       "  </thead>\n",
       "  <tbody>\n",
       "    <tr>\n",
       "      <th>0</th>\n",
       "      <td>BDU:2021-02717</td>\n",
       "      <td>Критический</td>\n",
       "      <td>Уязвимость удаленного выполнения кода в Micros...</td>\n",
       "      <td>cpe:/a:microsoft:office:2013</td>\n",
       "      <td>C:\\Program Files (x86)\\Common Files\\Microsoft ...</td>\n",
       "      <td>01.03.2022 17:32:04</td>\n",
       "      <td>0</td>\n",
       "    </tr>\n",
       "    <tr>\n",
       "      <th>1</th>\n",
       "      <td>BDU:2020-04157</td>\n",
       "      <td>Критический</td>\n",
       "      <td>Уязвимость удаленного выполнения кода в Micros...</td>\n",
       "      <td>cpe:/a:microsoft:excel:2013</td>\n",
       "      <td>C:\\Program Files\\Microsoft Office 15\\root\\Offi...</td>\n",
       "      <td>01.03.2022 17:32:04</td>\n",
       "      <td>0</td>\n",
       "    </tr>\n",
       "    <tr>\n",
       "      <th>2</th>\n",
       "      <td>BDU:2020-04079</td>\n",
       "      <td>Критический</td>\n",
       "      <td>Уязвимость удаленного выполнения кода в Micros...</td>\n",
       "      <td>cpe:/a:microsoft:office:2010cpe:/a:microsoft:o...</td>\n",
       "      <td>C:\\Program Files (x86)\\Common Files\\Microsoft ...</td>\n",
       "      <td>01.03.2022 17:32:04</td>\n",
       "      <td>0</td>\n",
       "    </tr>\n",
       "    <tr>\n",
       "      <th>3</th>\n",
       "      <td>BDU:2020-04480</td>\n",
       "      <td>Критический</td>\n",
       "      <td>Уязвимость удаленного выполнения кода в Visual...</td>\n",
       "      <td>cpe:/a:microsoft:visual_studio:2013</td>\n",
       "      <td>C:\\Program Files (x86)\\Microsoft Visual Studio...</td>\n",
       "      <td>01.03.2022 17:32:04</td>\n",
       "      <td>0</td>\n",
       "    </tr>\n",
       "    <tr>\n",
       "      <th>4</th>\n",
       "      <td>BDU:2021-03067</td>\n",
       "      <td>Критический</td>\n",
       "      <td>Уязвимость удаленного выполнения кода в Micros...</td>\n",
       "      <td>cpe:/a:microsoft:excel:2013</td>\n",
       "      <td>C:\\Program Files\\Microsoft Office 15\\root\\Offi...</td>\n",
       "      <td>01.03.2022 17:32:04</td>\n",
       "      <td>0</td>\n",
       "    </tr>\n",
       "  </tbody>\n",
       "</table>\n",
       "</div>"
      ],
      "text/plain": [
       "              bdu         risk  \\\n",
       "0  BDU:2021-02717  Критический   \n",
       "1  BDU:2020-04157  Критический   \n",
       "2  BDU:2020-04079  Критический   \n",
       "3  BDU:2020-04480  Критический   \n",
       "4  BDU:2021-03067  Критический   \n",
       "\n",
       "                                                desc  \\\n",
       "0  Уязвимость удаленного выполнения кода в Micros...   \n",
       "1  Уязвимость удаленного выполнения кода в Micros...   \n",
       "2  Уязвимость удаленного выполнения кода в Micros...   \n",
       "3  Уязвимость удаленного выполнения кода в Visual...   \n",
       "4  Уязвимость удаленного выполнения кода в Micros...   \n",
       "\n",
       "                                      filelist_prods  \\\n",
       "0                       cpe:/a:microsoft:office:2013   \n",
       "1                        cpe:/a:microsoft:excel:2013   \n",
       "2  cpe:/a:microsoft:office:2010cpe:/a:microsoft:o...   \n",
       "3                cpe:/a:microsoft:visual_studio:2013   \n",
       "4                        cpe:/a:microsoft:excel:2013   \n",
       "\n",
       "                                      file_list_desc            date_time  \\\n",
       "0  C:\\Program Files (x86)\\Common Files\\Microsoft ...  01.03.2022 17:32:04   \n",
       "1  C:\\Program Files\\Microsoft Office 15\\root\\Offi...  01.03.2022 17:32:04   \n",
       "2  C:\\Program Files (x86)\\Common Files\\Microsoft ...  01.03.2022 17:32:04   \n",
       "3  C:\\Program Files (x86)\\Microsoft Visual Studio...  01.03.2022 17:32:04   \n",
       "4  C:\\Program Files\\Microsoft Office 15\\root\\Offi...  01.03.2022 17:32:04   \n",
       "\n",
       "   file_idx  \n",
       "0         0  \n",
       "1         0  \n",
       "2         0  \n",
       "3         0  \n",
       "4         0  "
      ]
     },
     "execution_count": 105,
     "metadata": {},
     "output_type": "execute_result"
    }
   ],
   "source": [
    "df = pd.read_csv('./Reports_CSV/report_all_rows.csv')\n",
    "df.head(5)"
   ]
  },
  {
   "cell_type": "code",
   "execution_count": 106,
   "metadata": {},
   "outputs": [],
   "source": [
    "df['date_time'] = pd.to_datetime(df['date_time'], format=\"%d.%m.%Y %H:%M:%S\", errors=\"coerce\").fillna(pd.to_datetime(df['date_time'], format=\"%m/%d/%Y %I:%M:%S %p\", errors=\"coerce\")).fillna(pd.to_datetime(df['date_time'], format=\"%d/%m/%Y %H:%M:%S\", errors=\"coerce\")).fillna(pd.to_datetime(df['date_time'].str.replace(r'[а-яА-Я]', '').str.strip(), format=\"%d.%m.%y %H:%M:%S\", errors=\"coerce\"))"
   ]
  },
  {
   "cell_type": "code",
   "execution_count": 320,
   "metadata": {},
   "outputs": [
    {
     "data": {
      "text/plain": [
       "cpe:/o:microsoft:windows_10:1909::x64                      2889\n",
       "cpe:/a:oracle:jre:1.8.0                                    2283\n",
       "cpe:/a:adobe:flash_player                                  2245\n",
       "cpe:/o:microsoft:windows_7:::x64                           1818\n",
       "cpe:/a:microsoft:excel:2016                                1733\n",
       "cpe:/o:microsoft:windows_10:2004::x64                      1532\n",
       "cpe:/a:microsoft:word:2016                                 1103\n",
       "cpe:/a:microsoft:office:2016                                996\n",
       "cpe:/o:microsoft:windows_10:20h2::x64                       984\n",
       "cpe:/o:microsoft:windows_10:1803::x64                       885\n",
       "cpe:/a:microsoft:excel:2010                                 781\n",
       "cpe:/a:microsoft:ie:11                                      673\n",
       "cpe:/a:microsoft:word:2010                                  586\n",
       "cpe:/a:adobe:photoshop                                      579\n",
       "cpe:/a:microsoft:office:2010                                560\n",
       "cpe:/o:microsoft:windows_10:21h1::x64                       543\n",
       "cpe:/a:adobe:acrobat_reader_dc:::continuous                 540\n",
       "cpe:/a:microsoft:visual_studio:2019                         494\n",
       "cpe:/a:microsoft:office:2019                                451\n",
       "cpe:/a:microsoft:outlook:2016                               397\n",
       "cpe:/a:adobe:after_effects                                  338\n",
       "cpe:/o:microsoft:windows_10:1809::x64                       337\n",
       "cpe:/a:adobe:acrobat_dc:::continuous                        321\n",
       "cpe:/a:adobe:acrobat_reader:11                              297\n",
       "cpe:/a:adobe:adobe_air                                      287\n",
       "cpe:/a:microsoft:office:2010cpe:/a:microsoft:excel:2010     272\n",
       "cpe:/a:microsoft:excel:2013                                 268\n",
       "cpe:/a:oracle:vm_virtualbox:6.1                             261\n",
       "cpe:/a:microsoft:office:2007                                242\n",
       "cpe:/a:oracle:jre:1.6.0                                     192\n",
       "Name: filelist_prods, dtype: int64"
      ]
     },
     "execution_count": 320,
     "metadata": {},
     "output_type": "execute_result"
    }
   ],
   "source": [
    "df['filelist_prods'].value_counts().head(30)"
   ]
  },
  {
   "cell_type": "code",
   "execution_count": 404,
   "metadata": {},
   "outputs": [
    {
     "data": {
      "text/plain": [
       "Program Files                                     8837\n",
       "Program Files (x86)                               8535\n",
       "Windows                                           8256\n",
       "SOFTWARE                                          4675\n",
       "WINDOWS                                           1800\n",
       "Software                                          1276\n",
       "Офис                                               176\n",
       "office                                             165\n",
       "Office16                                           126\n",
       "Users                                              105\n",
       "ProgramData                                         98\n",
       "windows                                             96\n",
       "VB                                                  52\n",
       "Soft                                                24\n",
       "Адобы                                               24\n",
       "PhotoShop                                           22\n",
       "program gamez                                       22\n",
       "photoshop1337                                       22\n",
       "progs                                               20\n",
       "Adobe                                               18\n",
       "Programs                                            17\n",
       "S-1-5-21-2504144549-3686669765-3751651015-1001      13\n",
       "S-1-5-21-626777237-1792276417-1649288482-1001       13\n",
       "S-1-5-21-894998371-1870482755-6742487-1000          12\n",
       "Job                                                 12\n",
       "S-1-5-21-2873673825-2470840662-829168779-1001        9\n",
       "ms project                                           8\n",
       "python                                               6\n",
       "S-1-5-21-539342540-2317591180-92264303-1001          6\n",
       "S-1-5-21-2128616283-2159331528-1268361551-1001       6\n",
       "S-1-5-21-229624372-594744965-2939406303-1001         3\n",
       "Ps                                                   3\n",
       "S-1-5-21-4101514679-3460681012-3470363259-1001       3\n",
       "S-1-5-21-477062765-277767994-5136752-1001            2\n",
       "SQL                                                  2\n",
       "S-1-5-21-3148362796-4119903440-232245668-1002        1\n",
       "Python34                                             1\n",
       "Game                                                 1\n",
       "SQLServer                                            1\n",
       "Programing                                           1\n",
       "S-1-5-21-4011212284-302058866-3589844934-1001        1\n",
       "Name: file_list_desc, dtype: int64"
      ]
     },
     "execution_count": 404,
     "metadata": {},
     "output_type": "execute_result"
    }
   ],
   "source": [
    "df['file_list_desc'].str.split('\\\\').str[1].value_counts()"
   ]
  },
  {
   "cell_type": "code",
   "execution_count": 408,
   "metadata": {},
   "outputs": [
    {
     "data": {
      "text/plain": [
       "0     [C:, Program Files (x86), Common Files, Micros...\n",
       "1     [C:, Program Files, Microsoft Office 15, root,...\n",
       "2     [C:, Program Files (x86), Common Files, Micros...\n",
       "3     [C:, Program Files (x86), Microsoft Visual Stu...\n",
       "4     [C:, Program Files, Microsoft Office 15, root,...\n",
       "5     [C:, Program Files (x86), Microsoft Visual Stu...\n",
       "6     [C:, Program Files (x86), Microsoft Visual Stu...\n",
       "7     [C:, Program Files, Microsoft Office 15, root,...\n",
       "8     [C:, Program Files, Microsoft Office 15, root,...\n",
       "9     [C:, Program Files, Microsoft Office 15, root,...\n",
       "10    [C:, Program Files, Microsoft Office 15, root,...\n",
       "11    [var_ref=oval:ru.altx-soft.win:var:2752, value...\n",
       "12    [HKEY_LOCAL_MACHINE, Software, Microsoft, Wind...\n",
       "13    [C:, Program Files (x86), Common Files, Micros...\n",
       "14    [C:, Program Files, Microsoft Office 15, root,...\n",
       "15    [C:, Program Files (x86), Microsoft Office, Of...\n",
       "16    [C:, Program Files, Microsoft Office 15, root,...\n",
       "17    [C:, Program Files (x86), Microsoft Office, Of...\n",
       "18    [C:, Program Files, Microsoft Office 15, root,...\n",
       "19    [C:, Program Files, Microsoft Office 15, root,...\n",
       "20    [C:, Program Files, Microsoft Office 15, root,...\n",
       "21    [var_ref=oval:ru.altx-soft.win:var:2752, value...\n",
       "22    [C:, Program Files, Microsoft Office 15, root,...\n",
       "23    [C:, Program Files, Microsoft Office 15, root,...\n",
       "24    [C:, Program Files, Microsoft Office 15, root,...\n",
       "25    [C:, Program Files, Microsoft Office 15, root,...\n",
       "26    [C:, Program Files (x86), Common Files, Micros...\n",
       "27    [C:, Program Files (x86), Common Files, Micros...\n",
       "28    [C:, Program Files, Microsoft Office 15, root,...\n",
       "29    [C:, Program Files, Microsoft Office 15, root,...\n",
       "Name: file_list_desc, dtype: object"
      ]
     },
     "execution_count": 408,
     "metadata": {},
     "output_type": "execute_result"
    }
   ],
   "source": [
    "df['file_list_desc'].str.split('\\\\').head(30)"
   ]
  },
  {
   "cell_type": "code",
   "execution_count": 416,
   "metadata": {},
   "outputs": [
    {
     "data": {
      "text/plain": [
       "334.9326923076923"
      ]
     },
     "execution_count": 416,
     "metadata": {},
     "output_type": "execute_result"
    }
   ],
   "source": [
    "df.groupby(['file_idx']).count()['date_time'].mean()"
   ]
  },
  {
   "cell_type": "code",
   "execution_count": 325,
   "metadata": {},
   "outputs": [
    {
     "data": {
      "text/plain": [
       "(9127, 21138)"
      ]
     },
     "execution_count": 325,
     "metadata": {},
     "output_type": "execute_result"
    }
   ],
   "source": [
    "df.filelist_prods.str.contains('cpe:/o').sum(), df.filelist_prods.str.contains('cpe:/a').sum()"
   ]
  },
  {
   "cell_type": "code",
   "execution_count": 352,
   "metadata": {},
   "outputs": [
    {
     "data": {
      "text/plain": [
       "0        False\n",
       "1        False\n",
       "2        False\n",
       "3        False\n",
       "4        False\n",
       "         ...  \n",
       "34828    False\n",
       "34829    False\n",
       "34830    False\n",
       "34831    False\n",
       "34832    False\n",
       "Name: filelist_prods, Length: 34833, dtype: object"
      ]
     },
     "execution_count": 352,
     "metadata": {},
     "output_type": "execute_result"
    }
   ],
   "source": [
    "df['filelist_prods'].str.match(r'cpe:/o')"
   ]
  },
  {
   "cell_type": "code",
   "execution_count": 377,
   "metadata": {},
   "outputs": [
    {
     "data": {
      "text/html": [
       "<div>\n",
       "<style scoped>\n",
       "    .dataframe tbody tr th:only-of-type {\n",
       "        vertical-align: middle;\n",
       "    }\n",
       "\n",
       "    .dataframe tbody tr th {\n",
       "        vertical-align: top;\n",
       "    }\n",
       "\n",
       "    .dataframe thead th {\n",
       "        text-align: right;\n",
       "    }\n",
       "</style>\n",
       "<table border=\"1\" class=\"dataframe\">\n",
       "  <thead>\n",
       "    <tr style=\"text-align: right;\">\n",
       "      <th></th>\n",
       "      <th>0</th>\n",
       "    </tr>\n",
       "  </thead>\n",
       "  <tbody>\n",
       "    <tr>\n",
       "      <th>0</th>\n",
       "      <td>microsoft:office:2013</td>\n",
       "    </tr>\n",
       "    <tr>\n",
       "      <th>1</th>\n",
       "      <td>microsoft:excel:2013</td>\n",
       "    </tr>\n",
       "    <tr>\n",
       "      <th>2</th>\n",
       "      <td>microsoft:office:2010cpe:/a:microsoft:office:2013</td>\n",
       "    </tr>\n",
       "    <tr>\n",
       "      <th>3</th>\n",
       "      <td>microsoft:visual_studio:2013</td>\n",
       "    </tr>\n",
       "    <tr>\n",
       "      <th>4</th>\n",
       "      <td>microsoft:excel:2013</td>\n",
       "    </tr>\n",
       "    <tr>\n",
       "      <th>...</th>\n",
       "      <td>...</td>\n",
       "    </tr>\n",
       "    <tr>\n",
       "      <th>34828</th>\n",
       "      <td>oracle:vm_virtualbox:6.1</td>\n",
       "    </tr>\n",
       "    <tr>\n",
       "      <th>34829</th>\n",
       "      <td>oracle:vm_virtualbox:6.1</td>\n",
       "    </tr>\n",
       "    <tr>\n",
       "      <th>34830</th>\n",
       "      <td>oracle:vm_virtualbox:6.1</td>\n",
       "    </tr>\n",
       "    <tr>\n",
       "      <th>34831</th>\n",
       "      <td>oracle:vm_virtualbox:6.1</td>\n",
       "    </tr>\n",
       "    <tr>\n",
       "      <th>34832</th>\n",
       "      <td>oracle:vm_virtualbox:6.1</td>\n",
       "    </tr>\n",
       "  </tbody>\n",
       "</table>\n",
       "<p>34833 rows × 1 columns</p>\n",
       "</div>"
      ],
      "text/plain": [
       "                                                       0\n",
       "0                                  microsoft:office:2013\n",
       "1                                   microsoft:excel:2013\n",
       "2      microsoft:office:2010cpe:/a:microsoft:office:2013\n",
       "3                           microsoft:visual_studio:2013\n",
       "4                                   microsoft:excel:2013\n",
       "...                                                  ...\n",
       "34828                           oracle:vm_virtualbox:6.1\n",
       "34829                           oracle:vm_virtualbox:6.1\n",
       "34830                           oracle:vm_virtualbox:6.1\n",
       "34831                           oracle:vm_virtualbox:6.1\n",
       "34832                           oracle:vm_virtualbox:6.1\n",
       "\n",
       "[34833 rows x 1 columns]"
      ]
     },
     "execution_count": 377,
     "metadata": {},
     "output_type": "execute_result"
    }
   ],
   "source": [
    "df['filelist_prods'].str.extract(r'cpe:/a+:(.*)')"
   ]
  },
  {
   "cell_type": "code",
   "execution_count": 398,
   "metadata": {},
   "outputs": [
    {
     "data": {
      "text/plain": [
       "microsoft        11749\n",
       "adobe             5090\n",
       "oracle            3541\n",
       "mysql              187\n",
       "mozilla            144\n",
       "zoom                71\n",
       "node.js             57\n",
       "intel               43\n",
       "pypi                37\n",
       "rarlab              36\n",
       "apache              32\n",
       "videolan            30\n",
       "nvidia              23\n",
       "kaspersky_lab       20\n",
       "git_project         18\n",
       "apple               11\n",
       "teamviewer          10\n",
       "python               8\n",
       "libreoffice          8\n",
       "vmware               6\n",
       "Adobe                4\n",
       "7-zip                4\n",
       "postgresql           3\n",
       "mariadb              2\n",
       "kaspersky            1\n",
       "qbittorrent          1\n",
       "openvpn              1\n",
       "don_ho               1\n",
       "Name: 0, dtype: int64"
      ]
     },
     "execution_count": 398,
     "metadata": {},
     "output_type": "execute_result"
    }
   ],
   "source": [
    "df['filelist_prods'].str.extract(r'cpe:/a+:(.*):')[0].str.split(':').str[0].value_counts()"
   ]
  },
  {
   "cell_type": "code",
   "execution_count": 399,
   "metadata": {},
   "outputs": [
    {
     "data": {
      "text/plain": [
       "office                        3418\n",
       "excel                         3004\n",
       "jre                           2856\n",
       "word                          2070\n",
       "ie                             678\n",
       "outlook                        657\n",
       "visual_studio                  568\n",
       "acrobat_reader_dc              540\n",
       "vm_virtualbox                  412\n",
       "acrobat_dc                     321\n",
       "acrobat_reader                 297\n",
       "jdk                            221\n",
       "powerpoint                     203\n",
       "skype_for_business             106\n",
       ".net_framework                  94\n",
       "visual_studio_code              73\n",
       "zoom                            71\n",
       "mysql                           71\n",
       "project                         53\n",
       "asp.net_corecpe                 44\n",
       "access                          43\n",
       "sql_server                      36\n",
       "flash_player                    34\n",
       "visual_c++                      22\n",
       "onenote                         20\n",
       "edgecpe                         20\n",
       "office_onenote                  20\n",
       "publisher                       15\n",
       "infopath                        15\n",
       "lync                            14\n",
       "visio                           13\n",
       "edge                            12\n",
       "visio_viewer                     9\n",
       "mysql_client                     9\n",
       "shockwave_flash_activexcpe       8\n",
       "acrobat                          7\n",
       "lightroom                        4\n",
       "workstationcpe                   3\n",
       "gitcpe                           2\n",
       "mysql_workbenchcpe               2\n",
       "xml_core_services                1\n",
       "jscript                          1\n",
       "Name: 0, dtype: int64"
      ]
     },
     "execution_count": 399,
     "metadata": {},
     "output_type": "execute_result"
    }
   ],
   "source": [
    "df['filelist_prods'].str.extract(r'cpe:/a+:(.*):')[0].str.split(':').str[1].value_counts()"
   ]
  },
  {
   "cell_type": "code",
   "execution_count": null,
   "metadata": {},
   "outputs": [],
   "source": [
    "df['filelist_prods'].str.match(r'cpe:/o')"
   ]
  },
  {
   "cell_type": "code",
   "execution_count": 350,
   "metadata": {},
   "outputs": [
    {
     "data": {
      "text/plain": [
       "0                             cpe:/a:microsoft:office:2013\n",
       "1                              cpe:/a:microsoft:excel:2013\n",
       "2        cpe:/a:microsoft:office:2010cpe:/a:microsoft:o...\n",
       "3                      cpe:/a:microsoft:visual_studio:2013\n",
       "4                              cpe:/a:microsoft:excel:2013\n",
       "                               ...                        \n",
       "34828                      cpe:/a:oracle:vm_virtualbox:6.1\n",
       "34829                      cpe:/a:oracle:vm_virtualbox:6.1\n",
       "34830                      cpe:/a:oracle:vm_virtualbox:6.1\n",
       "34831                      cpe:/a:oracle:vm_virtualbox:6.1\n",
       "34832                      cpe:/a:oracle:vm_virtualbox:6.1\n",
       "Name: filelist_prods, Length: 34833, dtype: object"
      ]
     },
     "execution_count": 350,
     "metadata": {},
     "output_type": "execute_result"
    }
   ],
   "source": [
    "# df['filelist_prods'].str.replace(r'^(?!.*cpe).*$', ' ', regex=True)"
   ]
  },
  {
   "cell_type": "code",
   "execution_count": null,
   "metadata": {},
   "outputs": [],
   "source": [
    "df['filelist_prods'].value_counts().head(30)"
   ]
  },
  {
   "cell_type": "code",
   "execution_count": 312,
   "metadata": {},
   "outputs": [
    {
     "data": {
      "text/plain": [
       "Высокий        1978\n",
       "Средний        1825\n",
       "Критический     958\n",
       "Низкий          136\n",
       "Name: risk, dtype: int64"
      ]
     },
     "execution_count": 312,
     "metadata": {},
     "output_type": "execute_result"
    }
   ],
   "source": [
    "df.drop_duplicates(subset='bdu', keep=\"last\")['risk'].value_counts()"
   ]
  },
  {
   "cell_type": "code",
   "execution_count": 313,
   "metadata": {},
   "outputs": [
    {
     "data": {
      "text/plain": [
       "Высокий        14825\n",
       "Средний        13167\n",
       "Критический     5423\n",
       "Низкий          1418\n",
       "Name: risk, dtype: int64"
      ]
     },
     "execution_count": 313,
     "metadata": {},
     "output_type": "execute_result"
    }
   ],
   "source": [
    "df['risk'].value_counts()"
   ]
  },
  {
   "cell_type": "code",
   "execution_count": 279,
   "metadata": {},
   "outputs": [
    {
     "data": {
      "text/plain": [
       "BDU:2021-04570    132\n",
       "BDU:2021-00872    131\n",
       "BDU:2021-01844    118\n",
       "BDU:2021-04571    101\n",
       "BDU:2021-03140     91\n",
       "BDU:2021-03742     90\n",
       "BDU:2021-03744     90\n",
       "BDU:2020-00300     88\n",
       "BDU:2021-01845     86\n",
       "BDU:2019-03123     86\n",
       "Name: bdu, dtype: int64"
      ]
     },
     "execution_count": 279,
     "metadata": {},
     "output_type": "execute_result"
    }
   ],
   "source": [
    "df['bdu'].value_counts().head(10)"
   ]
  },
  {
   "cell_type": "code",
   "execution_count": 306,
   "metadata": {},
   "outputs": [
    {
     "data": {
      "text/plain": [
       "date_time  date_time\n",
       "2          8             1\n",
       "           15            3\n",
       "           16            8\n",
       "           17            1\n",
       "           18           18\n",
       "           19           10\n",
       "           20            6\n",
       "           21            3\n",
       "           22            4\n",
       "           23            8\n",
       "           24           11\n",
       "           25            1\n",
       "           26            6\n",
       "           27            3\n",
       "           28            5\n",
       "3          1             3\n",
       "           2             3\n",
       "           3             1\n",
       "           4             2\n",
       "           5             2\n",
       "           6             1\n",
       "           8             1\n",
       "           16            1\n",
       "4          6             1\n",
       "5          13            1\n",
       "Name: file_idx, dtype: int64"
      ]
     },
     "execution_count": 306,
     "metadata": {},
     "output_type": "execute_result"
    }
   ],
   "source": [
    "df.groupby('file_idx').first().reset_index().groupby([df.groupby('file_idx').first().reset_index().date_time.dt.month, df.groupby('file_idx').first().reset_index().date_time.dt.day]).count()['file_idx']"
   ]
  },
  {
   "cell_type": "code",
   "execution_count": 292,
   "metadata": {},
   "outputs": [
    {
     "data": {
      "text/plain": [
       "date_time\n",
       "1       0\n",
       "2       3\n",
       "3      71\n",
       "4      32\n",
       "5      33\n",
       "6      29\n",
       "8      16\n",
       "13     42\n",
       "15      4\n",
       "16     10\n",
       "17    103\n",
       "18      2\n",
       "19      9\n",
       "20      1\n",
       "21      6\n",
       "22     26\n",
       "23     17\n",
       "24      8\n",
       "25     49\n",
       "26     58\n",
       "27     31\n",
       "28      7\n",
       "Name: file_idx, dtype: int64"
      ]
     },
     "execution_count": 292,
     "metadata": {},
     "output_type": "execute_result"
    }
   ],
   "source": [
    "df.groupby(df['date_time'].dt.day)['file_idx']"
   ]
  },
  {
   "cell_type": "code",
   "execution_count": 244,
   "metadata": {},
   "outputs": [],
   "source": [
    "cooc_list_dicts = []\n",
    "top_n_bdus = 100\n",
    "\n",
    "for i, v in df['bdu'].value_counts().head(top_n_bdus).iteritems():\n",
    "    file_idxs = df[df['bdu'] == i]['file_idx'].unique()\n",
    "    cooc_dict = {}\n",
    "    \n",
    "    for i in file_idxs:\n",
    "        for bdu in df[df.file_idx == i]['bdu'].unique():\n",
    "            if cooc_dict.get(bdu):\n",
    "                cooc_dict[bdu] +=1\n",
    "            else:\n",
    "                cooc_dict[bdu] =1\n",
    "    \n",
    "    cooc_list_dicts.append(cooc_dict)"
   ]
  },
  {
   "cell_type": "code",
   "execution_count": null,
   "metadata": {
    "scrolled": false
   },
   "outputs": [],
   "source": [
    "for list_i, item in enumerate(cooc_list_dicts):\n",
    "    bdu = df['bdu'].value_counts().head(100).index[list_i]\n",
    "    print(bdu)\n",
    "    count = 0\n",
    "    for i, w in enumerate(sorted(item, key=item.get, reverse=True)):\n",
    "        if bdu == w:\n",
    "            continue\n",
    "        print(w, item[w])\n",
    "        count += 1\n",
    "        if count == 10:\n",
    "            break\n",
    "    if list_i == 30:\n",
    "        break"
   ]
  },
  {
   "cell_type": "code",
   "execution_count": 169,
   "metadata": {},
   "outputs": [
    {
     "data": {
      "text/html": [
       "<div>\n",
       "<style scoped>\n",
       "    .dataframe tbody tr th:only-of-type {\n",
       "        vertical-align: middle;\n",
       "    }\n",
       "\n",
       "    .dataframe tbody tr th {\n",
       "        vertical-align: top;\n",
       "    }\n",
       "\n",
       "    .dataframe thead th {\n",
       "        text-align: right;\n",
       "    }\n",
       "</style>\n",
       "<table border=\"1\" class=\"dataframe\">\n",
       "  <thead>\n",
       "    <tr style=\"text-align: right;\">\n",
       "      <th></th>\n",
       "      <th>v</th>\n",
       "      <th>idx</th>\n",
       "    </tr>\n",
       "  </thead>\n",
       "  <tbody>\n",
       "    <tr>\n",
       "      <th>0</th>\n",
       "      <td>a</td>\n",
       "      <td>0</td>\n",
       "    </tr>\n",
       "    <tr>\n",
       "      <th>1</th>\n",
       "      <td>b</td>\n",
       "      <td>0</td>\n",
       "    </tr>\n",
       "    <tr>\n",
       "      <th>2</th>\n",
       "      <td>a</td>\n",
       "      <td>0</td>\n",
       "    </tr>\n",
       "    <tr>\n",
       "      <th>3</th>\n",
       "      <td>b</td>\n",
       "      <td>1</td>\n",
       "    </tr>\n",
       "    <tr>\n",
       "      <th>4</th>\n",
       "      <td>a</td>\n",
       "      <td>1</td>\n",
       "    </tr>\n",
       "    <tr>\n",
       "      <th>5</th>\n",
       "      <td>b</td>\n",
       "      <td>1</td>\n",
       "    </tr>\n",
       "  </tbody>\n",
       "</table>\n",
       "</div>"
      ],
      "text/plain": [
       "   v  idx\n",
       "0  a    0\n",
       "1  b    0\n",
       "2  a    0\n",
       "3  b    1\n",
       "4  a    1\n",
       "5  b    1"
      ]
     },
     "execution_count": 169,
     "metadata": {},
     "output_type": "execute_result"
    }
   ],
   "source": [
    "pd.DataFrame({'v': ['a','b', 'a', 'b', 'a', 'b'], 'idx': [0,0,0, 1, 1, 1]})\n",
    "# a: b = 3, c = ...\n",
    "# ...\n",
    "#b: a = 3, c = ..."
   ]
  },
  {
   "cell_type": "code",
   "execution_count": null,
   "metadata": {},
   "outputs": [],
   "source": []
  }
 ],
 "metadata": {
  "kernelspec": {
   "display_name": "Python 3",
   "language": "python",
   "name": "python3"
  },
  "language_info": {
   "codemirror_mode": {
    "name": "ipython",
    "version": 3
   },
   "file_extension": ".py",
   "mimetype": "text/x-python",
   "name": "python",
   "nbconvert_exporter": "python",
   "pygments_lexer": "ipython3",
   "version": "3.6.8"
  }
 },
 "nbformat": 4,
 "nbformat_minor": 2
}
