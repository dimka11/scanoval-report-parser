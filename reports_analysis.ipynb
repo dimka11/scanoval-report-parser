{
 "cells": [
  {
   "cell_type": "code",
   "execution_count": 1,
   "metadata": {},
   "outputs": [],
   "source": [
    "import pandas as pd"
   ]
  },
  {
   "cell_type": "code",
   "execution_count": 17,
   "metadata": {},
   "outputs": [],
   "source": [
    "report_one = pd.read_csv('./report_one.csv')\n",
    "report_two = pd.read_csv('./report_two.csv')\n",
    "report_all = pd.read_csv('./report_all.csv')"
   ]
  },
  {
   "cell_type": "code",
   "execution_count": 18,
   "metadata": {},
   "outputs": [
    {
     "data": {
      "text/plain": [
       "(70, 1684, 11063)"
      ]
     },
     "execution_count": 18,
     "metadata": {},
     "output_type": "execute_result"
    }
   ],
   "source": [
    "len(report_one), len(report_two), len(report_all)"
   ]
  },
  {
   "cell_type": "code",
   "execution_count": 20,
   "metadata": {},
   "outputs": [
    {
     "data": {
      "text/plain": [
       "3448"
      ]
     },
     "execution_count": 20,
     "metadata": {},
     "output_type": "execute_result"
    }
   ],
   "source": [
    "len(report_all['bdu'].unique())"
   ]
  },
  {
   "cell_type": "code",
   "execution_count": 25,
   "metadata": {},
   "outputs": [
    {
     "data": {
      "text/plain": [
       "bdu\n",
       "BDU:2021-00872    31\n",
       "BDU:2020-00456    30\n",
       "BDU:2020-00446    30\n",
       "BDU:2020-00441    30\n",
       "BDU:2019-03610    30\n",
       "BDU:2020-00387    30\n",
       "BDU:2019-01509    30\n",
       "BDU:2019-04135    30\n",
       "BDU:2021-04570    30\n",
       "BDU:2019-03932    30\n",
       "BDU:2021-04571    28\n",
       "BDU:2021-03140    28\n",
       "BDU:2019-00395    26\n",
       "BDU:2021-01844    26\n",
       "BDU:2021-03742    26\n",
       "BDU:2019-00273    26\n",
       "BDU:2021-03744    26\n",
       "BDU:2019-04082    25\n",
       "BDU:2019-04084    25\n",
       "BDU:2020-00300    25\n",
       "Name: bdu, dtype: int64"
      ]
     },
     "execution_count": 25,
     "metadata": {},
     "output_type": "execute_result"
    }
   ],
   "source": [
    "report_all.groupby(['bdu'])['bdu'].count().sort_values(ascending=False).head(20)"
   ]
  },
  {
   "cell_type": "code",
   "execution_count": null,
   "metadata": {},
   "outputs": [],
   "source": []
  }
 ],
 "metadata": {
  "kernelspec": {
   "display_name": "Python 3",
   "language": "python",
   "name": "python3"
  },
  "language_info": {
   "codemirror_mode": {
    "name": "ipython",
    "version": 3
   },
   "file_extension": ".py",
   "mimetype": "text/x-python",
   "name": "python",
   "nbconvert_exporter": "python",
   "pygments_lexer": "ipython3",
   "version": "3.6.8"
  }
 },
 "nbformat": 4,
 "nbformat_minor": 2
}
